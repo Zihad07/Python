{
 "cells": [
  {
   "cell_type": "code",
   "execution_count": null,
   "metadata": {},
   "outputs": [],
   "source": [
    "# Given an array return the second largest number\n",
    "# array[1,2,3,4,5,0,1] -> 4\n",
    "# array[] or array[one-value]-> None\n",
    "# array[3,4,3]->3"
   ]
  },
  {
   "cell_type": "code",
   "execution_count": 3,
   "metadata": {},
   "outputs": [],
   "source": [
    "# my solution\n",
    "\n",
    "def second_largest(array):\n",
    "    if len(array)==0 or len(array)==1:\n",
    "        return None\n",
    "    \n",
    "    max = array[0]\n",
    "    second_large_value = 0\n",
    "    \n",
    "    for index in range(1,len(array)):\n",
    "        if max <= array[index]:\n",
    "            second_large_value = max\n",
    "            max = array[index]\n",
    "    return second_large_value\n"
   ]
  },
  {
   "cell_type": "code",
   "execution_count": 5,
   "metadata": {},
   "outputs": [
    {
     "name": "stdout",
     "output_type": "stream",
     "text": [
      "4\n",
      "None\n",
      "None\n",
      "3\n",
      "-2\n"
     ]
    }
   ],
   "source": [
    "# test\n",
    "print(second_largest([1,2,3,4,5,0,1]))\n",
    "print(second_largest([]))\n",
    "print(second_largest([9]))\n",
    "print(second_largest([3,1,3]))\n",
    "print(second_largest([-2,-1]))"
   ]
  },
  {
   "cell_type": "code",
   "execution_count": null,
   "metadata": {},
   "outputs": [],
   "source": []
  }
 ],
 "metadata": {
  "kernelspec": {
   "display_name": "Python 3",
   "language": "python",
   "name": "python3"
  },
  "language_info": {
   "codemirror_mode": {
    "name": "ipython",
    "version": 3
   },
   "file_extension": ".py",
   "mimetype": "text/x-python",
   "name": "python",
   "nbconvert_exporter": "python",
   "pygments_lexer": "ipython3",
   "version": "3.6.4"
  }
 },
 "nbformat": 4,
 "nbformat_minor": 2
}
