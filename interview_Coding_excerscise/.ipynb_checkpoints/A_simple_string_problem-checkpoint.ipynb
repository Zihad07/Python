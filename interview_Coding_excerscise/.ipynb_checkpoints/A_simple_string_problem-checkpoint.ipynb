{
 "cells": [
  {
   "cell_type": "code",
   "execution_count": null,
   "metadata": {},
   "outputs": [],
   "source": [
    "# Given a interger string('1232','201')\n",
    "# write a function that return 'True' (if 1st string is larger than 2nd String)\n",
    "#ohter-wise return 'False'\n",
    "\n",
    "# simple test-case\n",
    "# larger_than('1232','201') -> True\n",
    "# larger_than('202','232') -> False\n",
    "# larger_than('222','222') -> False\n",
    "# larger_than('220','22') -> True\n",
    "# larger_than('22','220') -> Fasle\n"
   ]
  },
  {
   "cell_type": "code",
   "execution_count": 3,
   "metadata": {},
   "outputs": [],
   "source": [
    "# My solution\n",
    "\n",
    "def larger_than(s1, s2):\n",
    "    if len(s1) > len(s2):\n",
    "        return True\n",
    "    if len(s1) == len(s2):\n",
    "        for i in range(len(s1)):\n",
    "            if s1[i] > s2[i]:\n",
    "                return True\n",
    "    \n",
    "#     ohter-wise\n",
    "    return False\n",
    "#--------------------------------------------\n",
    "\n",
    "\n"
   ]
  },
  {
   "cell_type": "code",
   "execution_count": 4,
   "metadata": {},
   "outputs": [
    {
     "name": "stdout",
     "output_type": "stream",
     "text": [
      "True\n",
      "False\n",
      "False\n",
      "True\n",
      "False\n"
     ]
    }
   ],
   "source": [
    "# Check test-case out put\n",
    "print(larger_than('1232','201'))\n",
    "print(larger_than('202','232'))\n",
    "print(larger_than('222','222'))\n",
    "print(larger_than('220','22'))\n",
    "print(larger_than('22','220'))\n",
    "\n"
   ]
  },
  {
   "cell_type": "code",
   "execution_count": 5,
   "metadata": {},
   "outputs": [
    {
     "name": "stdout",
     "output_type": "stream",
     "text": [
      "True\n",
      "False\n",
      "True\n",
      "False\n"
     ]
    }
   ],
   "source": [
    "# Judge test-case out put\n",
    "print(larger_than('112','111'))\n",
    "print(larger_than('525','1111'))\n",
    "print(larger_than('11','0'))\n",
    "print(larger_than('1','1'))"
   ]
  },
  {
   "cell_type": "code",
   "execution_count": null,
   "metadata": {},
   "outputs": [],
   "source": []
  }
 ],
 "metadata": {
  "kernelspec": {
   "display_name": "Python 3",
   "language": "python",
   "name": "python3"
  },
  "language_info": {
   "codemirror_mode": {
    "name": "ipython",
    "version": 3
   },
   "file_extension": ".py",
   "mimetype": "text/x-python",
   "name": "python",
   "nbconvert_exporter": "python",
   "pygments_lexer": "ipython3",
   "version": "3.6.4"
  }
 },
 "nbformat": 4,
 "nbformat_minor": 2
}
