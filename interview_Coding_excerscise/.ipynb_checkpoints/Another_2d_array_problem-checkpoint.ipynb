{
 "cells": [
  {
   "cell_type": "code",
   "execution_count": null,
   "metadata": {},
   "outputs": [],
   "source": [
    "# Given  2d Array(n*n) square shape\n",
    "# (i,j) is represent each chell (i,j)-> has a integer value of negative or postive\n",
    "# wirte a fucntion that return the number of negative value of Big(n^2) and also Big(n)"
   ]
  },
  {
   "cell_type": "code",
   "execution_count": 1,
   "metadata": {},
   "outputs": [],
   "source": [
    "# my Solution Big(n^2)\n",
    "\n",
    "def no_neg(twoD):\n",
    "    total_neg = 0\n",
    "    for row in twoD:\n",
    "        for value in row:\n",
    "            if value<0:\n",
    "                total_neg += 1\n",
    "    \n",
    "    return total_neg\n",
    "    \n",
    "    \n",
    "#------------------------------------"
   ]
  },
  {
   "cell_type": "code",
   "execution_count": 2,
   "metadata": {},
   "outputs": [
    {
     "name": "stdout",
     "output_type": "stream",
     "text": [
      "6\n"
     ]
    }
   ],
   "source": [
    "\n",
    "print(no_neg([\n",
    "    [-4,-3,-1,1],\n",
    "    [-2,-2,1,2],\n",
    "    [-1,1,2,3],\n",
    "    [1,2,4,5]\n",
    "]))"
   ]
  },
  {
   "cell_type": "code",
   "execution_count": 9,
   "metadata": {},
   "outputs": [],
   "source": [
    "# my Solution Big(n)\n",
    "\n",
    "def optimal_neg(twoD):\n",
    "    col = len(twoD[0]) - 1\n",
    "    row = 0\n",
    "    total_neg = 0\n",
    "    \n",
    "    while col>= 0 and row < len(twoD):\n",
    "        if twoD[col][row]<0:\n",
    "            total_neg += (col+1)\n",
    "            row += 1\n",
    "        else:\n",
    "            col -= 1\n",
    "        \n",
    "    return total_neg\n",
    "        \n",
    "    \n",
    "            \n",
    "        \n",
    "    "
   ]
  },
  {
   "cell_type": "code",
   "execution_count": 11,
   "metadata": {},
   "outputs": [
    {
     "name": "stdout",
     "output_type": "stream",
     "text": [
      "7\n"
     ]
    }
   ],
   "source": [
    "# check optimal solution\n",
    "\n",
    "print(optimal_neg([\n",
    "    [-4,-3,-1,1],\n",
    "    [-2,-2,1,2],\n",
    "    [-1,1,2,3],\n",
    "    [-1,2,4,5]\n",
    "]))"
   ]
  },
  {
   "cell_type": "code",
   "execution_count": 12,
   "metadata": {},
   "outputs": [
    {
     "name": "stdout",
     "output_type": "stream",
     "text": [
      "4\n"
     ]
    }
   ],
   "source": [
    "print(optimal_neg([\n",
    "    [-4,3,1,1],\n",
    "    [-2,2,1,2],\n",
    "    [-1,1,2,3],\n",
    "    [-1,2,4,5]\n",
    "]))"
   ]
  },
  {
   "cell_type": "code",
   "execution_count": 13,
   "metadata": {},
   "outputs": [
    {
     "name": "stdout",
     "output_type": "stream",
     "text": [
      "0\n"
     ]
    }
   ],
   "source": [
    "print(optimal_neg([[0]\n",
    "]))"
   ]
  },
  {
   "cell_type": "code",
   "execution_count": null,
   "metadata": {},
   "outputs": [],
   "source": []
  }
 ],
 "metadata": {
  "kernelspec": {
   "display_name": "Python 3",
   "language": "python",
   "name": "python3"
  },
  "language_info": {
   "codemirror_mode": {
    "name": "ipython",
    "version": 3
   },
   "file_extension": ".py",
   "mimetype": "text/x-python",
   "name": "python",
   "nbconvert_exporter": "python",
   "pygments_lexer": "ipython3",
   "version": "3.6.4"
  }
 },
 "nbformat": 4,
 "nbformat_minor": 2
}
