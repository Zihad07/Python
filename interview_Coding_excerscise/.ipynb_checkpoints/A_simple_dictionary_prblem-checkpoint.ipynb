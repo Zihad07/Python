{
 "cells": [
  {
   "cell_type": "raw",
   "metadata": {},
   "source": [
    "[3,4,1,2,9]-> find(x,y) pair that is equal 10"
   ]
  },
  {
   "cell_type": "code",
   "execution_count": 19,
   "metadata": {},
   "outputs": [],
   "source": [
    "# My solutin Big(n^2)\n",
    "\n",
    "def pair10(mylist):\n",
    "    n = len(mylist)\n",
    "    \n",
    "    pair_list = []\n",
    "    for i in range(n-1):\n",
    "        for j in range(i+1,n):\n",
    "            if (mylist[i]+mylist[j] == 10):\n",
    "                pair_list.append((mylist[i],mylist[j]))\n",
    "\n",
    "    \n",
    "#     print(pair_list)\n",
    "    \n",
    "    if pair_list:\n",
    "        return pair_list[0]\n",
    "    return 'There is no pair that adds up to 10.'\n",
    "        "
   ]
  },
  {
   "cell_type": "code",
   "execution_count": 21,
   "metadata": {},
   "outputs": [
    {
     "name": "stdout",
     "output_type": "stream",
     "text": [
      "(1, 9)\n"
     ]
    }
   ],
   "source": [
    "print(pair10([3,4,1,2,9]))"
   ]
  },
  {
   "cell_type": "code",
   "execution_count": 20,
   "metadata": {},
   "outputs": [
    {
     "name": "stdout",
     "output_type": "stream",
     "text": [
      "There is no pair that adds up to 10.\n"
     ]
    }
   ],
   "source": [
    "print(pair10([3,4,1,2,1]))"
   ]
  },
  {
   "cell_type": "markdown",
   "metadata": {},
   "source": []
  },
  {
   "cell_type": "code",
   "execution_count": 26,
   "metadata": {},
   "outputs": [],
   "source": [
    "# Optimal Solution\n",
    "# Big O(n)\n",
    "\n",
    "def optimal_pair10(mylist):\n",
    "    \n",
    "    n = len(mylist)\n",
    "    # array first element add in hash_Table\n",
    "    hash_table = {mylist[0]:1} \n",
    "    \n",
    "    for i in range(1,n):  # O(n)\n",
    "        value = mylist[i]\n",
    "        \n",
    "        rest_value = 10-value\n",
    "        if rest_value in hash_table:  # O(1)\n",
    "            return value,rest_value\n",
    "        \n",
    "#         otherwise\n",
    "        hash_table[value] = 1\n",
    "    \n",
    "    print(hash_table)\n",
    "    return 'There is no pair that adds up to 10.'\n",
    "\n",
    "#----------------------------------------------------"
   ]
  },
  {
   "cell_type": "code",
   "execution_count": 25,
   "metadata": {},
   "outputs": [
    {
     "name": "stdout",
     "output_type": "stream",
     "text": [
      "{3: 1, 4: 1, 1: 1, 2: 1}\n",
      "There is no pair that adds up to 10.\n"
     ]
    }
   ],
   "source": [
    "print(optimal_pair10([3,4,1,2,1]))"
   ]
  },
  {
   "cell_type": "code",
   "execution_count": 27,
   "metadata": {},
   "outputs": [
    {
     "name": "stdout",
     "output_type": "stream",
     "text": [
      "(2, 8)\n"
     ]
    }
   ],
   "source": [
    "print(optimal_pair10([3,8,1,2,9]))"
   ]
  },
  {
   "cell_type": "code",
   "execution_count": 28,
   "metadata": {},
   "outputs": [
    {
     "name": "stdout",
     "output_type": "stream",
     "text": [
      "(30, -20)\n"
     ]
    }
   ],
   "source": [
    "print(optimal_pair10([-11,-20,2,4,30]))"
   ]
  },
  {
   "cell_type": "code",
   "execution_count": 29,
   "metadata": {},
   "outputs": [
    {
     "name": "stdout",
     "output_type": "stream",
     "text": [
      "(9, 1)\n"
     ]
    }
   ],
   "source": [
    "print(optimal_pair10([1,2,9,8]))"
   ]
  },
  {
   "cell_type": "code",
   "execution_count": 30,
   "metadata": {},
   "outputs": [
    {
     "name": "stdout",
     "output_type": "stream",
     "text": [
      "(9, 1)\n"
     ]
    }
   ],
   "source": [
    "print(optimal_pair10([1,1,1,2,3,9]))"
   ]
  },
  {
   "cell_type": "code",
   "execution_count": 31,
   "metadata": {},
   "outputs": [
    {
     "name": "stdout",
     "output_type": "stream",
     "text": [
      "{1: 1, 2: 1, 3: 1, 4: 1, 5: 1}\n",
      "There is no pair that adds up to 10.\n"
     ]
    }
   ],
   "source": [
    "print(optimal_pair10([1,1,1,2,3,4,5]))"
   ]
  },
  {
   "cell_type": "code",
   "execution_count": null,
   "metadata": {},
   "outputs": [],
   "source": []
  }
 ],
 "metadata": {
  "kernelspec": {
   "display_name": "Python 3",
   "language": "python",
   "name": "python3"
  },
  "language_info": {
   "codemirror_mode": {
    "name": "ipython",
    "version": 3
   },
   "file_extension": ".py",
   "mimetype": "text/x-python",
   "name": "python",
   "nbconvert_exporter": "python",
   "pygments_lexer": "ipython3",
   "version": "3.6.4"
  }
 },
 "nbformat": 4,
 "nbformat_minor": 2
}
