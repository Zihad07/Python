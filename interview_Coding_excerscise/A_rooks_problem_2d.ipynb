{
 "cells": [
  {
   "cell_type": "code",
   "execution_count": null,
   "metadata": {},
   "outputs": [],
   "source": [
    "# Given (chess board) 2d Array(n*n) square shape\n",
    "# (i,j) is represent each chell (i,j)->1 is rooks and (i,j)->0 empty \n",
    "# wirte a fucntion that return ture if all of rooks are not attach each outher\n",
    "# other-wise return False"
   ]
  },
  {
   "cell_type": "code",
   "execution_count": 1,
   "metadata": {},
   "outputs": [],
   "source": [
    "# My solution\n",
    "\n",
    "def rooks_are_safe(chess):\n",
    "    # row access\n",
    "    for row in chess:\n",
    "        rooks = 0\n",
    "        for cell in row:\n",
    "            if cell == 1:\n",
    "                rooks += 1\n",
    "                if rooks==2:\n",
    "                    return False\n",
    "    \n",
    "    # column accecss\n",
    "    \n",
    "    for row in range(len(chess)):\n",
    "        rooks = 0\n",
    "        for col in range(len(chess)):\n",
    "            if chess[col][row] == 1:\n",
    "                rooks += 1\n",
    "                if rooks == 2:\n",
    "                    return False\n",
    "    \n",
    "    return True\n",
    "\n",
    "        \n",
    "#--------------------------------------------------------------------        "
   ]
  },
  {
   "cell_type": "code",
   "execution_count": 2,
   "metadata": {},
   "outputs": [
    {
     "name": "stdout",
     "output_type": "stream",
     "text": [
      "True\n"
     ]
    }
   ],
   "source": [
    "print(rooks_are_safe([[1,0,0],\n",
    "                      [0,1,0],\n",
    "                      [0,0,1]]))"
   ]
  },
  {
   "cell_type": "code",
   "execution_count": 3,
   "metadata": {},
   "outputs": [
    {
     "name": "stdout",
     "output_type": "stream",
     "text": [
      "True\n"
     ]
    }
   ],
   "source": [
    "print(rooks_are_safe([[0,1,0],\n",
    "                      [1,0,0],\n",
    "                      [0,0,1]]))"
   ]
  },
  {
   "cell_type": "code",
   "execution_count": 4,
   "metadata": {},
   "outputs": [
    {
     "name": "stdout",
     "output_type": "stream",
     "text": [
      "False\n"
     ]
    }
   ],
   "source": [
    "print(rooks_are_safe([[1,0,0],\n",
    "                      [0,1,0],\n",
    "                      [0,1,0]]))"
   ]
  },
  {
   "cell_type": "code",
   "execution_count": 13,
   "metadata": {},
   "outputs": [
    {
     "name": "stdout",
     "output_type": "stream",
     "text": [
      "False\n"
     ]
    }
   ],
   "source": [
    "print(rooks_are_safe([[0,0,0],\n",
    "                      [1,0,1],\n",
    "                      [0,0,0]]))"
   ]
  },
  {
   "cell_type": "code",
   "execution_count": 6,
   "metadata": {},
   "outputs": [
    {
     "name": "stdout",
     "output_type": "stream",
     "text": [
      "True\n"
     ]
    }
   ],
   "source": [
    "print(rooks_are_safe([[1,0],\n",
    "                     [0,1]]))"
   ]
  },
  {
   "cell_type": "code",
   "execution_count": 7,
   "metadata": {},
   "outputs": [
    {
     "name": "stdout",
     "output_type": "stream",
     "text": [
      "True\n"
     ]
    }
   ],
   "source": [
    "print(rooks_are_safe([[0,1],\n",
    "                     [1,0]]))"
   ]
  },
  {
   "cell_type": "code",
   "execution_count": 12,
   "metadata": {},
   "outputs": [
    {
     "name": "stdout",
     "output_type": "stream",
     "text": [
      "False\n"
     ]
    }
   ],
   "source": [
    "print(rooks_are_safe([[1,0],\n",
    "                     [1,0]]))"
   ]
  },
  {
   "cell_type": "code",
   "execution_count": 9,
   "metadata": {},
   "outputs": [
    {
     "name": "stdout",
     "output_type": "stream",
     "text": [
      "True\n"
     ]
    }
   ],
   "source": [
    "print(rooks_are_safe([[1]]))"
   ]
  },
  {
   "cell_type": "code",
   "execution_count": 11,
   "metadata": {},
   "outputs": [
    {
     "name": "stdout",
     "output_type": "stream",
     "text": [
      "True\n"
     ]
    }
   ],
   "source": [
    "print(rooks_are_safe([[0]]))"
   ]
  },
  {
   "cell_type": "code",
   "execution_count": 10,
   "metadata": {},
   "outputs": [
    {
     "name": "stdout",
     "output_type": "stream",
     "text": [
      "True\n"
     ]
    }
   ],
   "source": [
    "print(rooks_are_safe([[0,1,0,0],\n",
    "                     [0,0,1,0],\n",
    "                     [0,0,0,0],\n",
    "                     [0,0,0,1]]))"
   ]
  },
  {
   "cell_type": "code",
   "execution_count": null,
   "metadata": {},
   "outputs": [],
   "source": []
  }
 ],
 "metadata": {
  "kernelspec": {
   "display_name": "Python 3",
   "language": "python",
   "name": "python3"
  },
  "language_info": {
   "codemirror_mode": {
    "name": "ipython",
    "version": 3
   },
   "file_extension": ".py",
   "mimetype": "text/x-python",
   "name": "python",
   "nbconvert_exporter": "python",
   "pygments_lexer": "ipython3",
   "version": "3.6.4"
  }
 },
 "nbformat": 4,
 "nbformat_minor": 2
}
